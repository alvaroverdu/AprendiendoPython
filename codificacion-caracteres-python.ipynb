{
 "cells": [
  {
   "cell_type": "markdown",
   "metadata": {},
   "source": [
    "# Python y codificación de caracteres\n",
    "\n",
    "Las computadoras se diseñaron originalmente para utilizar el alfabeto inglés con la codificación ASCII, del inglés *American Standard Code for Information Interchange*. ASCII cuenta con 128 combinaciones para definir 128 caracteres, incluyendo dígitos (0-9) y las letras a-z y A-Z, entre otros.\n",
    "\n",
    "ASCII no es capaz de representar la **ñ** ni por tanto la palabra **viña**.\n",
    "\n",
    "A continuación, surgieron multitud de versiones extendidas de ASCII para diferentes sistemas operativos e idiomas distintos, dificultado el proceso de codificación.\n",
    "El problema se intentó solucionar con la codificación **Unicode**, del inglés Universal Character Set Transformation Format, siendo su representación UTF-8 la más utilizada --también existen UTF-16 y UTF-32. Unicode corresponde a un mapeo entre números y caracteres a mostrar. \n",
    "\n",
    "El estándar Unicode describe cómo se representan los caracteres mediante puntos de código (code points). Un punto de código es un valor entero generalmente escrito en base 16. Por ejemplo, a es U+0061, emoji 🖐 es U+1F590, y Ω es U+03A9.\n",
    "\n",
    "El estándar ASCII define los caracteres correspondientes a los valores entre 0 y 127 y emplea un byte para almacenar cada caracter.\n",
    "\n",
    "Otro estándar es el Latin-1 (o ISO-8859-1) en el que cada caracter también se representa por un byte. Pero en este caso se define una relación para los 255 valores posibles. De 0 al 127 son los mismos caracteres que ASCII y el resto se utiliza para incorporar otros caracteres occidentales como la ñ o las vocales acentuadas.\n",
    "\n",
    "Vamos a realizar algunas pruebas aprovechándonos del lenguaje de programación python."
   ]
  },
  {
   "cell_type": "code",
   "execution_count": 1,
   "metadata": {},
   "outputs": [],
   "source": [
    "## Importamos librerías\n",
    "import sys"
   ]
  },
  {
   "cell_type": "markdown",
   "metadata": {},
   "source": [
    "La codificación que usa python se puede desvelar llamando a *sys.stdout.encoding*, donde stdout corresponde a la salida por pantalla."
   ]
  },
  {
   "cell_type": "code",
   "execution_count": 2,
   "metadata": {},
   "outputs": [
    {
     "name": "stdout",
     "output_type": "stream",
     "text": [
      "UTF-8\n"
     ]
    }
   ],
   "source": [
    "print(sys.stdout.encoding)"
   ]
  },
  {
   "cell_type": "markdown",
   "metadata": {},
   "source": [
    "Comprobamos el tamaño de la palabra **viña**"
   ]
  },
  {
   "cell_type": "code",
   "execution_count": 3,
   "metadata": {},
   "outputs": [
    {
     "name": "stdout",
     "output_type": "stream",
     "text": [
      "4\n",
      "viña\n"
     ]
    }
   ],
   "source": [
    "c = 'viña'\n",
    "print(len(c))\n",
    "print(c)"
   ]
  },
  {
   "cell_type": "markdown",
   "metadata": {},
   "source": [
    "En Python, cuando una variable es de un tipo inmutable, como por ejemplo una cadena, es posible asignar un nuevo valor a esa variable, pero no es posible modificar su contenido.\n",
    "\n",
    "En Python 3 las cadenas de caracteres pueden ser de tres tipos:\n",
    "\n",
    "* El tipo Unicode permite caracteres de múltiples lenguajes y cada carácter en una cadena tendrá un valor inmutable. \n",
    "* El tipo Byte sólo permite caracteres ASCII y los caracteres son también inmutables. \n",
    "* El tipo Bytearray es igual que Byte pero los caracteres de una cadena si son mutables.\n"
   ]
  },
  {
   "cell_type": "markdown",
   "metadata": {},
   "source": [
    "La función type() se usa para conocer en cada momento el tipo de datos que se obtiene, según las siguientes salidas:\n",
    "\n",
    "* <class 'str'> = cadena Unicode\n",
    "* <class 'bytes'> = cadena Byte\n",
    "* <class 'bytearray'> = cadena Bytearray\n",
    "\n",
    "Para declarar cadenas Unicode es necesario utilizar las dobles comillas:"
   ]
  },
  {
   "cell_type": "code",
   "execution_count": 4,
   "metadata": {},
   "outputs": [
    {
     "data": {
      "text/plain": [
       "str"
      ]
     },
     "execution_count": 4,
     "metadata": {},
     "output_type": "execute_result"
    }
   ],
   "source": [
    "lenguaje = \"Python\"\n",
    "type(lenguaje) "
   ]
  },
  {
   "cell_type": "markdown",
   "metadata": {},
   "source": [
    "Para declarar una cadena de texto Byte es necesario emplear las comillas (simples o dobles) para  delimitarla y anteponer el carácter “b”:"
   ]
  },
  {
   "cell_type": "code",
   "execution_count": 5,
   "metadata": {},
   "outputs": [
    {
     "data": {
      "text/plain": [
       "bytes"
      ]
     },
     "execution_count": 5,
     "metadata": {},
     "output_type": "execute_result"
    }
   ],
   "source": [
    "lenguaje = b\"Python\"\n",
    "type(lenguaje) "
   ]
  },
  {
   "cell_type": "markdown",
   "metadata": {},
   "source": [
    "Declaramos una segunda cadena Unicode con “ñ”:"
   ]
  },
  {
   "cell_type": "code",
   "execution_count": 6,
   "metadata": {},
   "outputs": [
    {
     "data": {
      "text/plain": [
       "str"
      ]
     },
     "execution_count": 6,
     "metadata": {},
     "output_type": "execute_result"
    }
   ],
   "source": [
    "pais = \"España\"\n",
    "type(pais) "
   ]
  },
  {
   "cell_type": "markdown",
   "metadata": {},
   "source": [
    "¿Qué sucede si intentamos declarar una cadena Byte que incluya una \"ñ\"? No es posible porque este carácter no se encuentra en la tabla ASCII y se producirá un error."
   ]
  },
  {
   "cell_type": "code",
   "execution_count": 7,
   "metadata": {},
   "outputs": [
    {
     "ename": "SyntaxError",
     "evalue": "bytes can only contain ASCII literal characters. (<ipython-input-7-c25dcb4837a8>, line 1)",
     "output_type": "error",
     "traceback": [
      "\u001b[0;36m  File \u001b[0;32m\"<ipython-input-7-c25dcb4837a8>\"\u001b[0;36m, line \u001b[0;32m1\u001b[0m\n\u001b[0;31m    pais = b\"España\"\u001b[0m\n\u001b[0m          ^\u001b[0m\n\u001b[0;31mSyntaxError\u001b[0m\u001b[0;31m:\u001b[0m bytes can only contain ASCII literal characters.\n"
     ]
    }
   ],
   "source": [
    "pais = b\"España\" "
   ]
  },
  {
   "cell_type": "markdown",
   "metadata": {},
   "source": [
    "Sin embargo, podemos convertir una cadena Unicode en Byte, utilizando la función bytes() indicando una codificación determinada. Por ejemplo, UTF-8:"
   ]
  },
  {
   "cell_type": "code",
   "execution_count": 8,
   "metadata": {},
   "outputs": [
    {
     "name": "stdout",
     "output_type": "stream",
     "text": [
      "b'Espa\\xc3\\xb1a'\n"
     ]
    },
    {
     "data": {
      "text/plain": [
       "bytes"
      ]
     },
     "execution_count": 8,
     "metadata": {},
     "output_type": "execute_result"
    }
   ],
   "source": [
    "pais = bytes(\"España\", \"utf-8\")\n",
    "print(pais) \n",
    "type(pais)"
   ]
  },
  {
   "cell_type": "markdown",
   "metadata": {},
   "source": [
    "Otro ejemplo, con la codificación “latin1” sería:"
   ]
  },
  {
   "cell_type": "code",
   "execution_count": 9,
   "metadata": {},
   "outputs": [
    {
     "name": "stdout",
     "output_type": "stream",
     "text": [
      "b'Espa\\xf1a'\n"
     ]
    },
    {
     "data": {
      "text/plain": [
       "bytes"
      ]
     },
     "execution_count": 9,
     "metadata": {},
     "output_type": "execute_result"
    }
   ],
   "source": [
    "pais = bytes(\"España\", \"latin1\")\n",
    "print(pais)\n",
    "type(pais)"
   ]
  },
  {
   "cell_type": "markdown",
   "metadata": {},
   "source": [
    "Otra forma de convertir una cadena Unicode a Byte, mediante la función encode()"
   ]
  },
  {
   "cell_type": "code",
   "execution_count": 10,
   "metadata": {},
   "outputs": [
    {
     "data": {
      "text/plain": [
       "b'Espa\\xf1a'"
      ]
     },
     "execution_count": 10,
     "metadata": {},
     "output_type": "execute_result"
    }
   ],
   "source": [
    "pais = \"España\"\n",
    "pais.encode(\"latin1\")"
   ]
  },
  {
   "cell_type": "markdown",
   "metadata": {},
   "source": [
    "Para hacer lo inverso, es decir, convertir una cadena Byte a Unicode podemos utilizar la función decode()."
   ]
  },
  {
   "cell_type": "code",
   "execution_count": 11,
   "metadata": {},
   "outputs": [
    {
     "data": {
      "text/plain": [
       "'España'"
      ]
     },
     "execution_count": 11,
     "metadata": {},
     "output_type": "execute_result"
    }
   ],
   "source": [
    "pais = \"España\"\n",
    "pais2 = pais.encode(\"latin1\")\n",
    "pais2.decode(\"latin1\") "
   ]
  },
  {
   "cell_type": "markdown",
   "metadata": {},
   "source": [
    "Si intentamos decodificar con una codificación inadecuada nos llevará a un error."
   ]
  },
  {
   "cell_type": "code",
   "execution_count": 12,
   "metadata": {},
   "outputs": [
    {
     "ename": "UnicodeDecodeError",
     "evalue": "'utf-8' codec can't decode byte 0xf1 in position 4: invalid continuation byte",
     "output_type": "error",
     "traceback": [
      "\u001b[0;31m---------------------------------------------------------------------------\u001b[0m",
      "\u001b[0;31mUnicodeDecodeError\u001b[0m                        Traceback (most recent call last)",
      "\u001b[0;32m<ipython-input-12-6d8e48716fb7>\u001b[0m in \u001b[0;36m<module>\u001b[0;34m\u001b[0m\n\u001b[1;32m      1\u001b[0m \u001b[0mpais\u001b[0m \u001b[0;34m=\u001b[0m \u001b[0;34m\"España\"\u001b[0m\u001b[0;34m\u001b[0m\u001b[0;34m\u001b[0m\u001b[0m\n\u001b[1;32m      2\u001b[0m \u001b[0mpais2\u001b[0m \u001b[0;34m=\u001b[0m \u001b[0mpais\u001b[0m\u001b[0;34m.\u001b[0m\u001b[0mencode\u001b[0m\u001b[0;34m(\u001b[0m\u001b[0;34m\"latin1\"\u001b[0m\u001b[0;34m)\u001b[0m\u001b[0;34m\u001b[0m\u001b[0;34m\u001b[0m\u001b[0m\n\u001b[0;32m----> 3\u001b[0;31m \u001b[0mpais2\u001b[0m\u001b[0;34m.\u001b[0m\u001b[0mdecode\u001b[0m\u001b[0;34m(\u001b[0m\u001b[0;34m\"utf-8\"\u001b[0m\u001b[0;34m)\u001b[0m\u001b[0;34m\u001b[0m\u001b[0;34m\u001b[0m\u001b[0m\n\u001b[0m",
      "\u001b[0;31mUnicodeDecodeError\u001b[0m: 'utf-8' codec can't decode byte 0xf1 in position 4: invalid continuation byte"
     ]
    }
   ],
   "source": [
    "pais = \"España\"\n",
    "pais2 = pais.encode(\"latin1\")\n",
    "pais2.decode(\"utf-8\") "
   ]
  },
  {
   "cell_type": "markdown",
   "metadata": {},
   "source": [
    "## Lecturas adicionales\n",
    "\n",
    "https://docs.python.org/3/howto/unicode.html\n",
    "https://python-para-impacientes.blogspot.com/2014/07/tipos-de-cadenas-unicode-byte-y.html"
   ]
  }
 ],
 "metadata": {
  "kernelspec": {
   "display_name": "Python 3",
   "language": "python",
   "name": "python3"
  },
  "language_info": {
   "codemirror_mode": {
    "name": "ipython",
    "version": 3
   },
   "file_extension": ".py",
   "mimetype": "text/x-python",
   "name": "python",
   "nbconvert_exporter": "python",
   "pygments_lexer": "ipython3",
   "version": "3.6.9"
  }
 },
 "nbformat": 4,
 "nbformat_minor": 4
}
