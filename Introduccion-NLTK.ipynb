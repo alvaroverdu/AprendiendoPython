{
 "cells": [
  {
   "cell_type": "markdown",
   "metadata": {},
   "source": [
    "El [Natural Language Toolkit](https://www.nltk.org/) (NLTK) es una plataforma usada para construir programas para análisis de texto.\n",
    "\n",
    "La plataforma dispone de un libro que introduce Python y el procesamiento de textos, [Natural Language Processing with Python](http://www.nltk.org/book/). "
   ]
  },
  {
   "cell_type": "code",
   "execution_count": null,
   "metadata": {},
   "outputs": [],
   "source": [
    "import nltk\n",
    "from nltk.corpus import stopwords\n",
    "from nltk.tokenize import word_tokenize\n",
    "from nltk.probability import FreqDist\n",
    "nltk.download('punkt')\n",
    " \n",
    "text = 'En este tutorial, vamos a aprender NLTK.'"
   ]
  },
  {
   "cell_type": "markdown",
   "metadata": {},
   "source": [
    "### Tokenización\n",
    "\n",
    "Tokenización: romper una frase en elementos individuales llamados tokens\n",
    "La función word_tokenize tokeniza una frase y obtenemos como resultado una lista de tokens que corresponde a la frase original"
   ]
  },
  {
   "cell_type": "code",
   "execution_count": null,
   "metadata": {},
   "outputs": [],
   "source": [
    "words = word_tokenize(text)\n",
    " \n",
    "print(words)"
   ]
  },
  {
   "cell_type": "markdown",
   "metadata": {},
   "source": [
    "### Búsquedas en texto\n",
    "\n",
    "Vamos a realizar una búsqueda en un texto."
   ]
  },
  {
   "cell_type": "code",
   "execution_count": null,
   "metadata": {},
   "outputs": [],
   "source": [
    "file = open('quijote.txt', 'r')\n",
    "textQuijote = file.read()\n",
    "concordanceQuijote = nltk.Text(nltk.word_tokenize(textQuijote))\n",
    " \n",
    "match = concordanceQuijote.concordance('dulcinea')"
   ]
  },
  {
   "cell_type": "code",
   "execution_count": null,
   "metadata": {},
   "outputs": [],
   "source": [
    "match = concordanceQuijote.concordance('dulcinea del toboso') # No funciona con varias palabras"
   ]
  },
  {
   "cell_type": "markdown",
   "metadata": {},
   "source": [
    "### Stopwords\n",
    "\n",
    "Stopwords son palabras que no aportan significado al texto y podemos obviarlas. Existen listas que se pueden personalizar."
   ]
  },
  {
   "cell_type": "code",
   "execution_count": null,
   "metadata": {},
   "outputs": [],
   "source": [
    "stop_words = set(stopwords.words('spanish'))\n",
    "words = word_tokenize(textQuijote)\n",
    " \n",
    "new_text = []\n",
    " \n",
    "for word in words:\n",
    "    if word not in stop_words:\n",
    "        new_text.append(word)\n",
    " \n",
    "print(new_text)"
   ]
  },
  {
   "cell_type": "markdown",
   "metadata": {},
   "source": [
    "## Cáculo de frecuencias\n",
    "\n",
    "La función FreqDist calcula la frecuencia de las palabras."
   ]
  },
  {
   "cell_type": "code",
   "execution_count": null,
   "metadata": {},
   "outputs": [],
   "source": [
    "fdist1 = FreqDist(new_text)"
   ]
  },
  {
   "cell_type": "code",
   "execution_count": null,
   "metadata": {},
   "outputs": [],
   "source": [
    "fdist1"
   ]
  },
  {
   "cell_type": "code",
   "execution_count": null,
   "metadata": {},
   "outputs": [],
   "source": [
    "fdist1.keys()"
   ]
  },
  {
   "cell_type": "markdown",
   "metadata": {},
   "source": [
    "### Expresiones regulares\n",
    "\n",
    "Las expresiones regulares nos permiten modificar las cadenas de texto de forma sencilla."
   ]
  },
  {
   "cell_type": "code",
   "execution_count": null,
   "metadata": {},
   "outputs": [],
   "source": [
    "import re\n",
    "\n",
    "input_str = \"El coche tenía 3 ventanas, 1 volante y 4 ruedas.\"\n",
    "result = re.sub(r'\\d+', '', input_str)\n",
    "print(result)"
   ]
  },
  {
   "cell_type": "markdown",
   "metadata": {},
   "source": [
    "### Lowercase\n",
    "\n",
    "En ocasiones, es interesante convertir las palabras a minúsculas para realizar comparaciones"
   ]
  },
  {
   "cell_type": "code",
   "execution_count": null,
   "metadata": {},
   "outputs": [],
   "source": [
    "input_str = \"España es uno de los lugares más bonitos del mundo junto a Francia e Inglaterra.\"\n",
    "input_str = input_str.lower()\n",
    "print(input_str)"
   ]
  },
  {
   "cell_type": "markdown",
   "metadata": {},
   "source": [
    "### Part of speech\n",
    "\n",
    "NLTK permite realizar el análisis sintáctico de cada palabra."
   ]
  },
  {
   "cell_type": "code",
   "execution_count": null,
   "metadata": {},
   "outputs": [],
   "source": [
    "# english\n",
    "postext = word_tokenize(\"Now we will start playing football\")\n",
    "\n",
    "nltk.pos_tag(postext)"
   ]
  }
 ],
 "metadata": {
  "kernelspec": {
   "display_name": "Python 3",
   "language": "python",
   "name": "python3"
  },
  "language_info": {
   "codemirror_mode": {
    "name": "ipython",
    "version": 3
   },
   "file_extension": ".py",
   "mimetype": "text/x-python",
   "name": "python",
   "nbconvert_exporter": "python",
   "pygments_lexer": "ipython3",
   "version": "3.6.9"
  }
 },
 "nbformat": 4,
 "nbformat_minor": 4
}
