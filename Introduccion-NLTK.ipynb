{
 "cells": [
  {
   "cell_type": "markdown",
   "metadata": {},
   "source": [
    "El [Natural Language Toolkit](https://www.nltk.org/) (NLTK) es una plataforma usada para construir programas para análisis de texto.\n",
    "\n",
    "La plataforma dispone de un libro que introduce Python y el procesamiento de textos, [Natural Language Processing with Python](http://www.nltk.org/book/). "
   ]
  },
  {
   "cell_type": "code",
   "execution_count": 32,
   "metadata": {},
   "outputs": [
    {
     "name": "stderr",
     "output_type": "stream",
     "text": [
      "[nltk_data] Downloading package punkt to /home/gustavo/nltk_data...\n",
      "[nltk_data]   Package punkt is already up-to-date!\n",
      "[nltk_data] Downloading package stopwords to\n",
      "[nltk_data]     /home/gustavo/nltk_data...\n",
      "[nltk_data]   Package stopwords is already up-to-date!\n",
      "[nltk_data] Downloading package averaged_perceptron_tagger to\n",
      "[nltk_data]     /home/gustavo/nltk_data...\n",
      "[nltk_data]   Package averaged_perceptron_tagger is already up-to-\n",
      "[nltk_data]       date!\n",
      "[nltk_data] Downloading package maxent_ne_chunker to\n",
      "[nltk_data]     /home/gustavo/nltk_data...\n",
      "[nltk_data]   Package maxent_ne_chunker is already up-to-date!\n",
      "[nltk_data] Downloading package words to /home/gustavo/nltk_data...\n",
      "[nltk_data]   Unzipping corpora/words.zip.\n"
     ]
    }
   ],
   "source": [
    "import nltk\n",
    "from nltk.corpus import stopwords\n",
    "from nltk.tokenize import word_tokenize\n",
    "from nltk.probability import FreqDist\n",
    "nltk.download('punkt')\n",
    "nltk.download('stopwords')\n",
    "nltk.download('averaged_perceptron_tagger')\n",
    "nltk.download('maxent_ne_chunker')\n",
    "nltk.download('words')\n",
    " \n",
    "text = 'En este tutorial, vamos a aprender NLTK.'"
   ]
  },
  {
   "cell_type": "markdown",
   "metadata": {},
   "source": [
    "### Tokenización\n",
    "\n",
    "Tokenización: romper una frase en elementos individuales llamados tokens\n",
    "La función word_tokenize tokeniza una frase y obtenemos como resultado una lista de tokens que corresponde a la frase original"
   ]
  },
  {
   "cell_type": "code",
   "execution_count": 33,
   "metadata": {},
   "outputs": [
    {
     "name": "stdout",
     "output_type": "stream",
     "text": [
      "['En', 'este', 'tutorial', ',', 'vamos', 'a', 'aprender', 'NLTK', '.']\n"
     ]
    }
   ],
   "source": [
    "words = word_tokenize(text)\n",
    " \n",
    "print(words)"
   ]
  },
  {
   "cell_type": "markdown",
   "metadata": {},
   "source": [
    "### Búsquedas en texto\n",
    "\n",
    "Vamos a realizar una búsqueda en un texto."
   ]
  },
  {
   "cell_type": "code",
   "execution_count": 34,
   "metadata": {},
   "outputs": [
    {
     "name": "stdout",
     "output_type": "stream",
     "text": [
      "Displaying 1 of 1 matches:\n",
      "sa y gran señora , vino a llamarla DULCINEA DEL TOBOSO , porque era natural de\n"
     ]
    }
   ],
   "source": [
    "file = open('quijote.txt', 'r')\n",
    "textQuijote = file.read()\n",
    "concordanceQuijote = nltk.Text(nltk.word_tokenize(textQuijote))\n",
    " \n",
    "match = concordanceQuijote.concordance('dulcinea')"
   ]
  },
  {
   "cell_type": "code",
   "execution_count": 35,
   "metadata": {},
   "outputs": [
    {
     "name": "stdout",
     "output_type": "stream",
     "text": [
      "no matches\n"
     ]
    }
   ],
   "source": [
    "match = concordanceQuijote.concordance('dulcinea del toboso') # No funciona con varias palabras"
   ]
  },
  {
   "cell_type": "markdown",
   "metadata": {},
   "source": [
    "### Stopwords\n",
    "\n",
    "Stopwords son palabras que no aportan significado al texto y podemos obviarlas. Existen listas que se pueden personalizar."
   ]
  },
  {
   "cell_type": "code",
   "execution_count": 36,
   "metadata": {},
   "outputs": [
    {
     "name": "stdout",
     "output_type": "stream",
     "text": [
      "['En', 'lugar', 'Mancha', ',', 'cuyo', 'nombre', 'quiero', 'acordarme', ',', 'tiempo', 'vivía', 'hidalgo', 'lanza', 'astillero', ',', 'adarga', 'antigua', ',', 'rocín', 'flaco', 'galgo', 'corredor', '.', 'Una', 'olla', 'vaca', 'carnero', ',', 'salpicón', 'noches', ',', 'duelos', 'quebrantos', 'sábados', ',', 'lentejas', 'viernes', ',', 'algún', 'palomino', 'añadidura', 'domingos', ',', 'consumían', 'tres', 'partes', 'hacienda', '.', 'El', 'resto', 'della', 'concluían', 'sayo', 'velarte', ',', 'calzas', 'velludo', 'fiestas', 'pantuflos', 'mismo', ',', 'días', 'semana', 'honraba', 'vellori', 'fino', '.', 'Tenía', 'casa', 'ama', 'pasaba', 'cuarenta', ',', 'sobrina', 'llegaba', 'veinte', ',', 'mozo', 'campo', 'plaza', ',', 'así', 'ensillaba', 'rocín', 'tomaba', 'podadera', '.', 'Frisaba', 'edad', 'hidalgo', 'cincuenta', 'años', ',', 'complexión', 'recia', ',', 'seco', 'carnes', ',', 'enjuto', 'rostro', ';', 'gran', 'madrugador', 'amigo', 'caza', '.', 'Quieren', 'decir', 'sobrenombre', 'Quijada', 'Quesada', '(', 'alguna', 'diferencia', 'autores', 'deste', 'caso', 'escriben', ')', ',', 'aunque', 'conjeturas', 'verosímiles', 'deja', 'entender', 'llama', 'Quijana', ';', 'importa', 'cuento', ';', 'basta', 'narración', 'dél', 'salga', 'punto', 'verdad', '.', 'Es', ',', 'pues', ',', 'saber', ',', 'sobredicho', 'hidalgo', ',', 'ratos', 'ocioso', '(', 'año', ')', 'daba', 'leer', 'libros', 'caballerías', 'tanta', 'afición', 'gusto', ',', 'olvidó', 'casi', 'punto', 'ejercicio', 'caza', ',', 'aun', 'administración', 'hacienda', ';', 'llegó', 'curiosidad', 'desatino', ',', 'vendió', 'muchas', 'hanegas', 'tierra', 'sembradura', ',', 'comprar', 'libros', 'caballerías', 'leer', ';', 'así', 'llevó', 'casa', 'cuantos', 'pudo', 'haber', 'dellos', ';', 'ningunos', 'parecían', 'tan', 'bien', 'compuso', 'famoso', 'Feliciano', 'Silva', ':', 'claridad', 'prosa', ',', 'aquellas', 'intrincadas', 'razones', ',', 'parecían', 'perlas', ';', 'llegaba', 'leer', 'aquellos', 'requiebros', 'cartas', 'desafío', ',', 'muchas', 'partes', 'hallaba', 'escrito', ':', 'razón', 'sinrazón', 'razón', 'hace', ',', 'tal', 'manera', 'razón', 'enflaquece', ',', 'razón', 'quejo', 'fermosura', ',', 'leía', ':', 'altos', 'cielos', 'divinidad', 'divinamente', 'estrellas', 'fortifican', ',', 'hacen', 'merecedora', 'merecimiento', 'merece', 'grandeza', '.', 'Con', 'semejantes', 'razones', 'perdía', 'pobre', 'caballero', 'juicio', ',', 'desvelábase', 'entenderlas', ',', 'desentrañarles', ',', 'sacara', ',', 'entendiera', 'mismo', 'Aristóteles', ',', 'si', 'resucitara', 'sólo', 'ello', '.', 'No', 'bien', 'heridas', 'don', 'Belianis', 'daba', 'recibía', ',', 'imaginaba', 'grandes', 'maestros', 'curado', ',', 'dejaría', 'tener', 'rostro', 'cuerpo', 'lleno', 'cicatrices', 'señales', ';', 'alababa', 'autor', 'aquel', 'acabar', 'libro', 'promesa', 'aquella', 'inacabable', 'aventura', ',', 'muchas', 'veces', 'vino', 'deseo', 'tomar', 'pluma', ',', 'darle', 'fin', 'pie', 'letra', 'allí', 'promete', ';', 'duda', 'alguna', 'hiciera', ',', 'aun', 'saliera', 'ello', ',', 'si', 'mayores', 'continuos', 'pensamientos', 'estorbaran', '.', 'Tuvo', 'muchas', 'veces', 'competencia', 'cura', 'lugar', '(', 'hombre', 'docto', 'graduado', 'Sigüenza', ')', ',', 'cuál', 'sido', 'mejor', 'caballero', ',', 'Palmerín', 'Inglaterra', 'Amadís', 'Gaula', ';', 'mas', 'maese', 'Nicolás', ',', 'barbero', 'mismo', 'pueblo', ',', 'decía', 'ninguno', 'llegaba', 'caballero', 'Febo', ',', 'si', 'alguno', 'podía', 'comparar', ',', 'don', 'Galaor', ',', 'hermano', 'Amadís', 'Gaula', ',', 'acomodada', 'condición', ';', 'caballero', 'melindroso', ',', 'tan', 'llorón', 'hermano', ',', 'valentía', 'iba', 'zaga', '.', 'En', 'resolución', ',', 'enfrascó', 'lectura', ',', 'pasaban', 'noches', 'leyendo', 'claro', 'claro', ',', 'días', 'turbio', 'turbio', ',', 'así', ',', 'dormir', 'leer', ',', 'secó', 'cerebro', ',', 'manera', 'vino', 'perder', 'juicio', '.', 'Llenósele', 'fantasía', 'aquello', 'leía', 'libros', ',', 'así', 'encantamientos', ',', 'pendencias', ',', 'batallas', ',', 'desafíos', ',', 'heridas', ',', 'requiebros', ',', 'amores', ',', 'tormentas', 'disparates', 'imposibles', ',', 'asentósele', 'tal', 'modo', 'imaginación', 'verdad', 'toda', 'aquella', 'máquina', 'aquellas', 'soñadas', 'invenciones', 'leía', ',', 'historia', 'cierta', 'mundo', '.', 'Decía', ',', 'Cid', 'Ruy', 'Díaz', 'sido', 'buen', 'caballero', ';', 'ver', 'caballero', 'ardiente', 'espada', ',', 'sólo', 'revés', 'partido', 'medio', 'dos', 'fieros', 'descomunales', 'gigantes', '.', 'Mejor', 'Bernardo', 'Carpio', ',', 'Roncesvalle', 'muerto', 'Roldán', 'encantado', ',', 'valiéndose', 'industria', 'Hércules', ',', 'ahogó', 'Anteo', ',', 'hijo', 'Tierra', ',', 'brazos', '.', 'Decía', 'bien', 'gigante', 'Morgante', ',', 'ser', 'aquella', 'generación', 'gigantesca', ',', 'soberbios', 'descomedidos', ',', 'solo', 'afable', 'bien', 'criado', ';', 'bien', 'Reinaldos', 'Montalbán', ',', 'veía', 'salir', 'castillo', 'robar', 'cuantos', 'topaba', ',', 'Allende', 'robó', 'aquel', 'ídolo', 'Mahoma', ',', 'oro', ',', 'según', 'dice', 'historia', '.', 'Diera', ',', 'dar', 'mano', 'coces', 'traidor', 'Galalón', ',', 'ama', 'aun', 'sobrina', 'añadidura', '.', 'En', 'efecto', ',', 'rematado', 'juicio', ',', 'vino', 'dar', 'extraño', 'pensamiento', 'jamás', 'dio', 'loco', 'mundo', ',', 'pareció', 'convenible', 'necesario', ',', 'así', 'aumento', 'honra', ',', 'servicio', 'república', ',', 'hacerse', 'caballero', 'andante', ',', 'irse', 'mundo', 'armas', 'caballo', 'buscar', 'aventuras', ',', 'ejercitarse', 'aquello', 'leído', ',', 'caballeros', 'andantes', 'ejercitaban', ',', 'deshaciendo', 'género', 'agravio', ',', 'poniéndose', 'ocasiones', 'peligros', ',', 'acabándolos', ',', 'cobrase', 'eterno', 'nombre', 'fama', '.', 'Imaginábase', 'pobre', 'coronado', 'valor', 'brazo', 'menos', 'imperio', 'Trapisonda', ':', 'así', 'tan', 'agradables', 'pensamientos', ',', 'llevado', 'estraño', 'gusto', 'sentía', ',', 'dió', 'priesa', 'poner', 'efecto', 'deseaba', '.', 'Y', 'primero', 'hizo', ',', 'limpiar', 'unas', 'armas', ',', 'sido', 'bisabuelos', ',', ',', 'tomadas', 'orín', 'llenas', 'moho', ',', 'luengos', 'siglos', 'puestas', 'olvidadas', 'rincón', '.', 'Limpiólas', 'aderezólas', 'mejor', 'pudo', ';', 'vió', 'gran', 'falta', ',', 'celada', 'encaje', ',', 'sino', 'morrión', 'simple', ';', 'mas', 'suplió', 'industria', ',', 'cartones', 'hizo', 'modo', 'media', 'celada', ',', 'encajada', 'morrión', ',', 'hacía', 'apariencia', 'celada', 'entera', '.', 'Es', 'verdad', 'probar', 'si', 'fuerte', ',', 'podía', 'riesgo', 'cuchillada', ',', 'sacó', 'espada', ',', 'dió', 'dos', 'golpes', ',', 'primero', 'punto', 'deshizo', 'hecho', 'semana', ':', 'dejó', 'parecerle', 'mal', 'facilidad', 'hecho', 'pedazos', ',', 'asegurarse', 'peligro', ',', 'tornó', 'hacer', 'nuevo', ',', 'poniéndole', 'unas', 'barras', 'hierro', 'dentro', 'tal', 'manera', ',', 'quedó', 'satisfecho', 'fortaleza', ';', ',', 'querer', 'hacer', 'nueva', 'experiencia', ',', 'diputó', 'celada', 'finísima', 'encaje', '.', 'Fue', 'luego', 'ver', 'rocín', ',', 'aunque', 'cuartos', 'real', ',', 'tachas', 'caballo', 'Gonela', ',', 'tantum', 'pellis', ',', 'et', 'ossa', 'fuit', ',', 'pareció', 'Bucéfalo', 'Alejandro', ',', 'Babieca', 'Cid', 'igualaban', '.', 'Cuatro', 'días', 'pasaron', 'imaginar', 'nombre', 'podría', ':', ',', 'según', 'decía', 'mismo', ',', 'razón', 'caballo', 'caballero', 'tan', 'famoso', ',', 'tan', 'bueno', ',', 'nombre', 'conocido', ';', 'así', 'procuraba', 'acomodársele', ',', 'manera', 'declarase', 'sido', ',', 'caballero', 'andante', ',', 'entones', ':', 'pues', 'puesto', 'razón', ',', 'mudando', 'señor', ',', 'mudase', 'nombre', ';', 'cobrase', 'famoso', 'estruendo', ',', 'convenía', 'nueva', 'orden', 'nuevo', 'ejercicio', 'profesaba', ':', 'así', 'después', 'nombres', 'formó', ',', 'borró', 'quitó', ',', 'añadió', ',', 'deshizo', 'tornó', 'hacer', 'memoria', 'imaginación', ',', 'fin', 'vino', 'llamar', 'ROCINANTE', ',', 'nombre', 'parecer', 'alto', ',', 'sonoro', 'significativo', 'sido', 'rocín', ',', 'ahora', ',', 'primero', 'rocines', 'mundo', '.', 'Puesto', 'nombre', 'tan', 'gusto', 'caballo', ',', 'quiso', 'ponérsele', 'mismo', ',', 'pensamiento', ',', 'duró', 'ocho', 'días', ',', 'cabo', 'vino', 'llamar', 'DON', 'QUIJOTE', ',', 'queda', 'dicho', ',', 'tomaron', 'ocasión', 'autores', 'tan', 'verdadera', 'historia', ',', 'duda', 'debía', 'llamar', 'Quijada', ',', 'Quesada', 'quisieron', 'decir', '.', 'Pero', 'acordándose', 'valeroso', 'Amadís', ',', 'sólo', 'contentado', 'llamarse', 'Amadís', 'secas', ',', 'sino', 'añadió', 'nombre', 'reino', 'patria', ',', 'hacerla', 'famosa', ',', 'llamó', 'Amadís', 'Gaula', ',', 'así', 'quiso', ',', 'buen', 'caballero', ',', 'añadir', 'nombre', ',', 'llamarse', 'DON', 'QUIJOTE', 'DE', 'LA', 'MANCHA', ',', 'parecer', 'declaraba', 'vivo', 'linaje', 'patria', ',', 'honraba', 'tomar', 'sobrenombre', 'della', '.', 'Limpias', ',', 'pues', ',', 'armas', ',', 'hecho', 'morrión', 'celada', ',', 'puesto', 'nombre', 'rocín', ',', 'confirmándose', 'mismo', ',', 'dió', 'entender', 'faltaba', 'cosa', ',', 'sino', 'buscar', 'dama', 'enamorarse', ',', 'caballero', 'andante', 'amores', ',', 'árbol', 'hojas', 'fruto', ',', 'cuerpo', 'alma', '.', 'Decíase', ':', 'si', 'malos', 'pecados', ',', 'buena', 'suerte', ',', 'encuentro', 'ahí', 'algún', 'gigante', ',', 'ordinario', 'acontece', 'caballeros', 'andantes', ',', 'derribo', 'encuentro', ',', 'parto', 'mitad', 'cuerpo', ',', 'finalmente', ',', 'venzo', 'rindo', ',', '¿no', 'bien', 'tener', 'quién', 'enviarle', 'presentado', ',', 'hinque', 'rodillas', 'dulce', 'señora', ',', 'diga', 'voz', 'humilde', 'rendida', ':', 'señora', ',', 'gigante', 'Caraculiambro', ',', 'señor', 'ínsula', 'Malindrania', ',', 'venció', 'singular', 'batalla', 'jamás', 'debe', 'alabado', 'caballero', 'D.', 'Quijote', 'Mancha', ',', 'mandó', 'presentase', 'merced', ',', 'grandeza', 'disponga', 'talante', '?', '¡Oh', ',', 'cómo', 'holgó', 'buen', 'caballero', ',', 'hecho', 'discurso', ',', 'halló', 'quién', 'dar', 'nombre', 'dama', '!', 'Y', ',', 'cree', ',', 'lugar', 'cerca', 'moza', 'labradora', 'buen', 'parecer', ',', 'tiempo', 'anduvo', 'enamorado', ',', 'aunque', 'según', 'entiende', ',', 'jamás', 'supo', 'dió', 'cata', 'ello', '.', 'Llamábase', 'Aldonza', 'Lorenzo', ',', 'pareció', 'ser', 'bien', 'darle', 'título', 'señora', 'pensamientos', ';', 'buscándole', 'nombre', 'desdijese', ',', 'tirase', 'encaminase', 'princesa', 'gran', 'señora', ',', 'vino', 'llamarla', 'DULCINEA', 'DEL', 'TOBOSO', ',', 'natural', 'Toboso', ',', 'nombre', 'parecer', 'músico', 'peregrino', 'significativo', ',', 'demás', 'cosas', 'puesto', '.']\n"
     ]
    }
   ],
   "source": [
    "stop_words = set(stopwords.words('spanish'))\n",
    "words = word_tokenize(textQuijote)\n",
    " \n",
    "new_text = []\n",
    " \n",
    "for word in words:\n",
    "    if word not in stop_words:\n",
    "        new_text.append(word)\n",
    " \n",
    "print(new_text)"
   ]
  },
  {
   "cell_type": "markdown",
   "metadata": {},
   "source": [
    "## Cáculo de frecuencias\n",
    "\n",
    "La función FreqDist calcula la frecuencia de las palabras."
   ]
  },
  {
   "cell_type": "code",
   "execution_count": 37,
   "metadata": {},
   "outputs": [],
   "source": [
    "fdist1 = FreqDist(new_text)"
   ]
  },
  {
   "cell_type": "code",
   "execution_count": 38,
   "metadata": {},
   "outputs": [
    {
     "data": {
      "text/plain": [
       "FreqDist({',': 203, '.': 28, ';': 19, 'nombre': 13, 'caballero': 13, ':': 10, 'así': 9, 'tan': 7, 'bien': 7, 'mismo': 6, ...})"
      ]
     },
     "execution_count": 38,
     "metadata": {},
     "output_type": "execute_result"
    }
   ],
   "source": [
    "fdist1"
   ]
  },
  {
   "cell_type": "code",
   "execution_count": 39,
   "metadata": {},
   "outputs": [
    {
     "data": {
      "text/plain": [
       "dict_keys(['En', 'lugar', 'Mancha', ',', 'cuyo', 'nombre', 'quiero', 'acordarme', 'tiempo', 'vivía', 'hidalgo', 'lanza', 'astillero', 'adarga', 'antigua', 'rocín', 'flaco', 'galgo', 'corredor', '.', 'Una', 'olla', 'vaca', 'carnero', 'salpicón', 'noches', 'duelos', 'quebrantos', 'sábados', 'lentejas', 'viernes', 'algún', 'palomino', 'añadidura', 'domingos', 'consumían', 'tres', 'partes', 'hacienda', 'El', 'resto', 'della', 'concluían', 'sayo', 'velarte', 'calzas', 'velludo', 'fiestas', 'pantuflos', 'mismo', 'días', 'semana', 'honraba', 'vellori', 'fino', 'Tenía', 'casa', 'ama', 'pasaba', 'cuarenta', 'sobrina', 'llegaba', 'veinte', 'mozo', 'campo', 'plaza', 'así', 'ensillaba', 'tomaba', 'podadera', 'Frisaba', 'edad', 'cincuenta', 'años', 'complexión', 'recia', 'seco', 'carnes', 'enjuto', 'rostro', ';', 'gran', 'madrugador', 'amigo', 'caza', 'Quieren', 'decir', 'sobrenombre', 'Quijada', 'Quesada', '(', 'alguna', 'diferencia', 'autores', 'deste', 'caso', 'escriben', ')', 'aunque', 'conjeturas', 'verosímiles', 'deja', 'entender', 'llama', 'Quijana', 'importa', 'cuento', 'basta', 'narración', 'dél', 'salga', 'punto', 'verdad', 'Es', 'pues', 'saber', 'sobredicho', 'ratos', 'ocioso', 'año', 'daba', 'leer', 'libros', 'caballerías', 'tanta', 'afición', 'gusto', 'olvidó', 'casi', 'ejercicio', 'aun', 'administración', 'llegó', 'curiosidad', 'desatino', 'vendió', 'muchas', 'hanegas', 'tierra', 'sembradura', 'comprar', 'llevó', 'cuantos', 'pudo', 'haber', 'dellos', 'ningunos', 'parecían', 'tan', 'bien', 'compuso', 'famoso', 'Feliciano', 'Silva', ':', 'claridad', 'prosa', 'aquellas', 'intrincadas', 'razones', 'perlas', 'aquellos', 'requiebros', 'cartas', 'desafío', 'hallaba', 'escrito', 'razón', 'sinrazón', 'hace', 'tal', 'manera', 'enflaquece', 'quejo', 'fermosura', 'leía', 'altos', 'cielos', 'divinidad', 'divinamente', 'estrellas', 'fortifican', 'hacen', 'merecedora', 'merecimiento', 'merece', 'grandeza', 'Con', 'semejantes', 'perdía', 'pobre', 'caballero', 'juicio', 'desvelábase', 'entenderlas', 'desentrañarles', 'sacara', 'entendiera', 'Aristóteles', 'si', 'resucitara', 'sólo', 'ello', 'No', 'heridas', 'don', 'Belianis', 'recibía', 'imaginaba', 'grandes', 'maestros', 'curado', 'dejaría', 'tener', 'cuerpo', 'lleno', 'cicatrices', 'señales', 'alababa', 'autor', 'aquel', 'acabar', 'libro', 'promesa', 'aquella', 'inacabable', 'aventura', 'veces', 'vino', 'deseo', 'tomar', 'pluma', 'darle', 'fin', 'pie', 'letra', 'allí', 'promete', 'duda', 'hiciera', 'saliera', 'mayores', 'continuos', 'pensamientos', 'estorbaran', 'Tuvo', 'competencia', 'cura', 'hombre', 'docto', 'graduado', 'Sigüenza', 'cuál', 'sido', 'mejor', 'Palmerín', 'Inglaterra', 'Amadís', 'Gaula', 'mas', 'maese', 'Nicolás', 'barbero', 'pueblo', 'decía', 'ninguno', 'Febo', 'alguno', 'podía', 'comparar', 'Galaor', 'hermano', 'acomodada', 'condición', 'melindroso', 'llorón', 'valentía', 'iba', 'zaga', 'resolución', 'enfrascó', 'lectura', 'pasaban', 'leyendo', 'claro', 'turbio', 'dormir', 'secó', 'cerebro', 'perder', 'Llenósele', 'fantasía', 'aquello', 'encantamientos', 'pendencias', 'batallas', 'desafíos', 'amores', 'tormentas', 'disparates', 'imposibles', 'asentósele', 'modo', 'imaginación', 'toda', 'máquina', 'soñadas', 'invenciones', 'historia', 'cierta', 'mundo', 'Decía', 'Cid', 'Ruy', 'Díaz', 'buen', 'ver', 'ardiente', 'espada', 'revés', 'partido', 'medio', 'dos', 'fieros', 'descomunales', 'gigantes', 'Mejor', 'Bernardo', 'Carpio', 'Roncesvalle', 'muerto', 'Roldán', 'encantado', 'valiéndose', 'industria', 'Hércules', 'ahogó', 'Anteo', 'hijo', 'Tierra', 'brazos', 'gigante', 'Morgante', 'ser', 'generación', 'gigantesca', 'soberbios', 'descomedidos', 'solo', 'afable', 'criado', 'Reinaldos', 'Montalbán', 'veía', 'salir', 'castillo', 'robar', 'topaba', 'Allende', 'robó', 'ídolo', 'Mahoma', 'oro', 'según', 'dice', 'Diera', 'dar', 'mano', 'coces', 'traidor', 'Galalón', 'efecto', 'rematado', 'extraño', 'pensamiento', 'jamás', 'dio', 'loco', 'pareció', 'convenible', 'necesario', 'aumento', 'honra', 'servicio', 'república', 'hacerse', 'andante', 'irse', 'armas', 'caballo', 'buscar', 'aventuras', 'ejercitarse', 'leído', 'caballeros', 'andantes', 'ejercitaban', 'deshaciendo', 'género', 'agravio', 'poniéndose', 'ocasiones', 'peligros', 'acabándolos', 'cobrase', 'eterno', 'fama', 'Imaginábase', 'coronado', 'valor', 'brazo', 'menos', 'imperio', 'Trapisonda', 'agradables', 'llevado', 'estraño', 'sentía', 'dió', 'priesa', 'poner', 'deseaba', 'Y', 'primero', 'hizo', 'limpiar', 'unas', 'bisabuelos', 'tomadas', 'orín', 'llenas', 'moho', 'luengos', 'siglos', 'puestas', 'olvidadas', 'rincón', 'Limpiólas', 'aderezólas', 'vió', 'falta', 'celada', 'encaje', 'sino', 'morrión', 'simple', 'suplió', 'cartones', 'media', 'encajada', 'hacía', 'apariencia', 'entera', 'probar', 'fuerte', 'riesgo', 'cuchillada', 'sacó', 'golpes', 'deshizo', 'hecho', 'dejó', 'parecerle', 'mal', 'facilidad', 'pedazos', 'asegurarse', 'peligro', 'tornó', 'hacer', 'nuevo', 'poniéndole', 'barras', 'hierro', 'dentro', 'quedó', 'satisfecho', 'fortaleza', 'querer', 'nueva', 'experiencia', 'diputó', 'finísima', 'Fue', 'luego', 'cuartos', 'real', 'tachas', 'Gonela', 'tantum', 'pellis', 'et', 'ossa', 'fuit', 'Bucéfalo', 'Alejandro', 'Babieca', 'igualaban', 'Cuatro', 'pasaron', 'imaginar', 'podría', 'bueno', 'conocido', 'procuraba', 'acomodársele', 'declarase', 'entones', 'puesto', 'mudando', 'señor', 'mudase', 'estruendo', 'convenía', 'orden', 'profesaba', 'después', 'nombres', 'formó', 'borró', 'quitó', 'añadió', 'memoria', 'llamar', 'ROCINANTE', 'parecer', 'alto', 'sonoro', 'significativo', 'ahora', 'rocines', 'Puesto', 'quiso', 'ponérsele', 'duró', 'ocho', 'cabo', 'DON', 'QUIJOTE', 'queda', 'dicho', 'tomaron', 'ocasión', 'verdadera', 'debía', 'quisieron', 'Pero', 'acordándose', 'valeroso', 'contentado', 'llamarse', 'secas', 'reino', 'patria', 'hacerla', 'famosa', 'llamó', 'añadir', 'DE', 'LA', 'MANCHA', 'declaraba', 'vivo', 'linaje', 'Limpias', 'confirmándose', 'faltaba', 'cosa', 'dama', 'enamorarse', 'árbol', 'hojas', 'fruto', 'alma', 'Decíase', 'malos', 'pecados', 'buena', 'suerte', 'encuentro', 'ahí', 'ordinario', 'acontece', 'derribo', 'parto', 'mitad', 'finalmente', 'venzo', 'rindo', '¿no', 'quién', 'enviarle', 'presentado', 'hinque', 'rodillas', 'dulce', 'señora', 'diga', 'voz', 'humilde', 'rendida', 'Caraculiambro', 'ínsula', 'Malindrania', 'venció', 'singular', 'batalla', 'debe', 'alabado', 'D.', 'Quijote', 'mandó', 'presentase', 'merced', 'disponga', 'talante', '?', '¡Oh', 'cómo', 'holgó', 'discurso', 'halló', '!', 'cree', 'cerca', 'moza', 'labradora', 'anduvo', 'enamorado', 'entiende', 'supo', 'cata', 'Llamábase', 'Aldonza', 'Lorenzo', 'título', 'buscándole', 'desdijese', 'tirase', 'encaminase', 'princesa', 'llamarla', 'DULCINEA', 'DEL', 'TOBOSO', 'natural', 'Toboso', 'músico', 'peregrino', 'demás', 'cosas'])"
      ]
     },
     "execution_count": 39,
     "metadata": {},
     "output_type": "execute_result"
    }
   ],
   "source": [
    "fdist1.keys()"
   ]
  },
  {
   "cell_type": "markdown",
   "metadata": {},
   "source": [
    "### Expresiones regulares\n",
    "\n",
    "Las expresiones regulares nos permiten modificar las cadenas de texto de forma sencilla."
   ]
  },
  {
   "cell_type": "code",
   "execution_count": 40,
   "metadata": {},
   "outputs": [
    {
     "name": "stdout",
     "output_type": "stream",
     "text": [
      "El coche tenía  ventanas,  volante y  ruedas.\n"
     ]
    }
   ],
   "source": [
    "import re\n",
    "\n",
    "input_str = \"El coche tenía 3 ventanas, 1 volante y 4 ruedas.\"\n",
    "result = re.sub(r'\\d+', '', input_str)\n",
    "print(result)"
   ]
  },
  {
   "cell_type": "markdown",
   "metadata": {},
   "source": [
    "### Lowercase\n",
    "\n",
    "En ocasiones, es interesante convertir las palabras a minúsculas para realizar comparaciones"
   ]
  },
  {
   "cell_type": "code",
   "execution_count": 41,
   "metadata": {},
   "outputs": [
    {
     "name": "stdout",
     "output_type": "stream",
     "text": [
      "españa es uno de los lugares más bonitos del mundo junto a francia e inglaterra.\n"
     ]
    }
   ],
   "source": [
    "input_str = \"España es uno de los lugares más bonitos del mundo junto a Francia e Inglaterra.\"\n",
    "input_str = input_str.lower()\n",
    "print(input_str)"
   ]
  },
  {
   "cell_type": "markdown",
   "metadata": {},
   "source": [
    "### Part of speech\n",
    "\n",
    "NLTK permite realizar el análisis sintáctico de cada palabra."
   ]
  },
  {
   "cell_type": "code",
   "execution_count": 42,
   "metadata": {},
   "outputs": [
    {
     "data": {
      "text/plain": [
       "[('Now', 'RB'),\n",
       " ('we', 'PRP'),\n",
       " ('will', 'MD'),\n",
       " ('start', 'VB'),\n",
       " ('playing', 'VBG'),\n",
       " ('football', 'NN')]"
      ]
     },
     "execution_count": 42,
     "metadata": {},
     "output_type": "execute_result"
    }
   ],
   "source": [
    "# english\n",
    "postext = word_tokenize(\"Now we will start playing football\")\n",
    "\n",
    "nltk.pos_tag(postext)"
   ]
  },
  {
   "cell_type": "markdown",
   "metadata": {},
   "source": [
    "### N-grama\n",
    "\n",
    "Por N-grama se entiende la combinación de n palabras a partir de un texto. N puede tener valor desde 1 hasta el valor que deseemos. 2-grama o bigrama corresponde a la combinación de dos palabras que aparecen en el texto de forma consecutiva. 3-grama o trigrama corresponde a combinaciones de tres palabras."
   ]
  },
  {
   "cell_type": "code",
   "execution_count": 43,
   "metadata": {},
   "outputs": [
    {
     "data": {
      "text/plain": [
       "[('NLTK', 'es'),\n",
       " ('es', 'una'),\n",
       " ('una', 'librería'),\n",
       " ('librería', 'para'),\n",
       " ('para', 'procesamiento'),\n",
       " ('procesamiento', 'de'),\n",
       " ('de', 'lenguaje'),\n",
       " ('lenguaje', 'natural')]"
      ]
     },
     "execution_count": 43,
     "metadata": {},
     "output_type": "execute_result"
    }
   ],
   "source": [
    "tokens = nltk.word_tokenize(\"NLTK es una librería para procesamiento de lenguaje natural\")\n",
    "\n",
    "#Crear bigrams\n",
    "bgs = nltk.bigrams(tokens)\n",
    "list(bgs)"
   ]
  },
  {
   "cell_type": "code",
   "execution_count": null,
   "metadata": {},
   "outputs": [],
   "source": [
    "tokens = nltk.word_tokenize(\"California es muy bonito y en Washington vive Pepe\")\n",
    "tagged = nltk.pos_tag(tokens)\n",
    "namedEnt = nltk.ne_chunk(tagged, binary=False)\n",
    "namedEnt.draw()"
   ]
  },
  {
   "cell_type": "code",
   "execution_count": null,
   "metadata": {},
   "outputs": [],
   "source": []
  }
 ],
 "metadata": {
  "kernelspec": {
   "display_name": "Python 3",
   "language": "python",
   "name": "python3"
  },
  "language_info": {
   "codemirror_mode": {
    "name": "ipython",
    "version": 3
   },
   "file_extension": ".py",
   "mimetype": "text/x-python",
   "name": "python",
   "nbconvert_exporter": "python",
   "pygments_lexer": "ipython3",
   "version": "3.6.9"
  }
 },
 "nbformat": 4,
 "nbformat_minor": 4
}
