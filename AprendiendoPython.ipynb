{
 "cells": [
  {
   "cell_type": "markdown",
   "metadata": {},
   "source": [
    "# Aprendiendo python 3\n",
    "\n",
    "## Antes de empezar\n",
    "\n",
    "### Instalación en Linux\n",
    "En Linux la instalación resulta realmente sencilla. Basta con abrir la terminal y escribir lo siguiente:\n",
    "sudo apt-get install python3\n",
    "\n",
    "### Recomendaciones básicas\n",
    "* Escribe los nombres de los ficheros en minúsculas (ej.: hola.py)\n",
    "* Los tipos de datos se escriben en minúsculas (ej.: int, str)\n",
    "* Indenta con 4 espacios el código\n",
    "* Escribe comentarios en el código\n",
    "\n",
    "## Salida de información\n",
    "Para mostrar texto en Python usamos la función print, cuya sintaxis es:"
   ]
  },
  {
   "cell_type": "code",
   "execution_count": 1,
   "metadata": {},
   "outputs": [
    {
     "name": "stdout",
     "output_type": "stream",
     "text": [
      "Hola mundo!\n"
     ]
    }
   ],
   "source": [
    "print(\"Hola mundo!\")"
   ]
  },
  {
   "cell_type": "markdown",
   "metadata": {},
   "source": [
    "## Comentarios\n",
    "En Python los comentarios se hacen con una almohadilla (#):"
   ]
  },
  {
   "cell_type": "code",
   "execution_count": 2,
   "metadata": {},
   "outputs": [],
   "source": [
    "# Esto es un comentario en python"
   ]
  },
  {
   "cell_type": "markdown",
   "metadata": {},
   "source": [
    "## Variables\n",
    "Las variables en Python se crean cuando se definen por primera vez, es decir, cuando se les asigna un valor por primera vez. Para asignar un valor a una variable se utiliza el operador de igualdad (=). A la izquierda de la igualdad se escribe el nombre de la variable y a la derecha el valor que se quiere dar a la variable."
   ]
  },
  {
   "cell_type": "code",
   "execution_count": 3,
   "metadata": {},
   "outputs": [],
   "source": [
    "variable = 10\n",
    "variable2 = \"Gustavo\""
   ]
  },
  {
   "cell_type": "markdown",
   "metadata": {},
   "source": [
    "## Números\n",
    "En Python, dentro del sistema númerico decimal, podemos operar con números enteros y números con coma flotante. \n",
    "* int: enteros\n",
    "* long: enteros \n",
    "* float: decimales"
   ]
  },
  {
   "cell_type": "code",
   "execution_count": 4,
   "metadata": {},
   "outputs": [],
   "source": [
    "a = 4 # int\n",
    "b = 4.15 # float"
   ]
  },
  {
   "cell_type": "markdown",
   "metadata": {},
   "source": [
    "## Operadores\n",
    "| Operación | Ejemplo |\n",
    "| -- | -- |\n",
    "| Asignación | a = 2 |\n",
    "| Suma | a = 2 + 1 |\n",
    "| Resta | a = 2 - 1 |\n",
    "| Multiplicación | a = 2 * 2 |\n",
    "| Potencia | a = a ** b |\n",
    "| División | a = a / b |"
   ]
  },
  {
   "cell_type": "markdown",
   "metadata": {},
   "source": [
    "## Entrada de información\n",
    "La función input se utiliza para permitir que el usuario introduzca información."
   ]
  },
  {
   "cell_type": "code",
   "execution_count": null,
   "metadata": {},
   "outputs": [],
   "source": [
    "nombre = str (input('Introduce tu nombre'))\n",
    "print('Te llamas', nombre)"
   ]
  },
  {
   "cell_type": "markdown",
   "metadata": {},
   "source": [
    "## Condiciones\n",
    "Para comprobar una igualdad usamos los siguientes operadores relacionales:\n",
    "\n",
    "|Operación | Operador | Ejemplo | Descripción\n",
    "| -- | -- | -- | -- |\n",
    "Igual | == | a == b | Comprueba si a y b son iguales. |\n",
    "Desigual | != | a != b | Comprueba si a y b sin distintos. |\n",
    "Mayor que | > | a > b | Comprueba si a es mayor que b. |\n",
    "Menor que | < | a < b | Comprueba si a es menor que b. |\n",
    "Mayor o igual a | >= | a >= b | Comprueba si a es mayor o igual a b. |\n",
    "Menor o igual a | <= | a <= b | Comprueba si a es menor o igual a b. |"
   ]
  },
  {
   "cell_type": "markdown",
   "metadata": {},
   "source": [
    "## Control de flujo\n",
    "### La sentencia **if**\n",
    "En la instrucción **if** podemos encontrar cero o más bloques elif, siendo el bloque else opcional. La palabra reservada **elif** es una abreviación de **else if**. Una instrucción **if** ... **elif** ... **elif** ... es similar a la instrucción **switch**."
   ]
  },
  {
   "cell_type": "code",
   "execution_count": 1,
   "metadata": {},
   "outputs": [
    {
     "name": "stdout",
     "output_type": "stream",
     "text": [
      "Mayor que 1\n"
     ]
    }
   ],
   "source": [
    "x = 100\n",
    "\n",
    "if x < 0:\n",
    "    x = 0\n",
    "    print('Negativo, por defecto marcamos a cero')\n",
    "elif x == 0:\n",
    "    print('0')\n",
    "elif x == 1:\n",
    "    print('1')\n",
    "else:\n",
    "    print('Mayor que 1')"
   ]
  },
  {
   "cell_type": "markdown",
   "metadata": {},
   "source": [
    "### La sentencia **for**\n",
    "La sentencia for de Python recorre los elementos en orden de una secuencia (una lista o una cadena de texto)."
   ]
  },
  {
   "cell_type": "code",
   "execution_count": null,
   "metadata": {},
   "outputs": [],
   "source": [
    "transporte = ['coche', 'moto', 'biciclea']\n",
    "for t in transporte:\n",
    "    print(t, len(t))"
   ]
  },
  {
   "cell_type": "markdown",
   "metadata": {},
   "source": [
    "### La función **range()**\n",
    "La función **range()** se utiliza para iterar sobre números. **range()** devuelve los elementos de la secuencia deseada cuando iterás, sin construir la lista, y ahorrando espacio."
   ]
  },
  {
   "cell_type": "code",
   "execution_count": null,
   "metadata": {},
   "outputs": [],
   "source": [
    "for i in range(5):\n",
    "    print(i)"
   ]
  },
  {
   "cell_type": "markdown",
   "metadata": {},
   "source": [
    "Para iterar sobre un conjunto de elementos podemos usar **range()** y **len()**."
   ]
  },
  {
   "cell_type": "code",
   "execution_count": null,
   "metadata": {},
   "outputs": [],
   "source": [
    "texto = ['Gustavo', 'es', 'profesor', 'en', 'la', 'universidad']\n",
    "for i in range(len(texto)):\n",
    "    print(i, texto[i])"
   ]
  },
  {
   "cell_type": "markdown",
   "metadata": {},
   "source": [
    "### Las sentencias **break**\n",
    "La sentencia **break** termina el bucle for o while."
   ]
  },
  {
   "cell_type": "code",
   "execution_count": null,
   "metadata": {},
   "outputs": [],
   "source": [
    "texto = ['Gustavo', 'es', 'profesor', 'en', 'la', 'universidad']\n",
    "for i in range(len(texto)):\n",
    "    print(i, texto[i])\n",
    "    if i == 2:\n",
    "        break;"
   ]
  },
  {
   "cell_type": "markdown",
   "metadata": {},
   "source": [
    "## Definiendo funciones\n",
    "La palabra reservada **def** se usa para definir funciones. Le sigue el nombre de la función y la lista de parámetros entre paréntesis. El cuerpo de la función lo componen un conjunto de sentencias con sangría. La sentencia **return** devuelve un valor en una función. "
   ]
  },
  {
   "cell_type": "code",
   "execution_count": null,
   "metadata": {},
   "outputs": [],
   "source": [
    "def multiplica(n1, n2):\n",
    "    return (n1 * n2)"
   ]
  },
  {
   "cell_type": "code",
   "execution_count": null,
   "metadata": {},
   "outputs": [],
   "source": [
    "# Ahora llamamos a la funcion\n",
    "print(multiplica(20, 2))"
   ]
  },
  {
   "cell_type": "markdown",
   "metadata": {},
   "source": [
    "### Argumentos con valores por omisión\n",
    "Python permite definir funciones con un número variable de argumentos especificando un valor por omisión para uno o más argumentos. De esta forma, la función puede ser llamada con menos argumentos."
   ]
  },
  {
   "cell_type": "code",
   "execution_count": null,
   "metadata": {},
   "outputs": [],
   "source": [
    "def calcula_pvp(precio, descuento=0, iva=0.21):\n",
    "    return (precio - descuento) + (precio - descuento) * iva \n",
    "\n",
    "# pasando solo el argumento obligatorio\n",
    "print (calcula_pvp (10))\n",
    "\n",
    "# pasando solo uno de los argumentos opcionales\n",
    "print (calcula_pvp (10, 2))\n",
    "\n",
    "# pasando todos los argumentos\n",
    "print (calcula_pvp (10, 2, 0.18)) \n"
   ]
  },
  {
   "cell_type": "markdown",
   "metadata": {},
   "source": [
    "## Operadores de listas\n",
    "* list.append(x): agrega un ítem al final de la lista\n",
    "* list.extend(iterable): extiende la lista agregándole todos los ítems del iterable\n",
    "* list.insert(i, x): inserta un ítem en una posición proporcionada\n",
    "* list.remove(x): elimina el primer ítem de la lista cuyo valor sea x\n",
    "* list.pop([i]): elimina el ítem en la posición dada de la lista, y lo devuelve\n",
    "* list.clear(): elimina todos los elementos de la lista\n",
    "* list.count(x): cuenta el número de veces que x aparece en la lista\n",
    "* list.reverse(): invierte los ítems de la lista\n",
    "\n",
    "Veamos el siguiente ejemplo basado en localidades."
   ]
  },
  {
   "cell_type": "code",
   "execution_count": null,
   "metadata": {},
   "outputs": [],
   "source": [
    "localidades = ['Alicante', 'Elda', 'Murcia', 'Castellón', 'Valencia']\n",
    "\n",
    "print(localidades.count('Murcia'))"
   ]
  },
  {
   "cell_type": "markdown",
   "metadata": {},
   "source": [
    "Buscamos una localidad en concreto."
   ]
  },
  {
   "cell_type": "code",
   "execution_count": null,
   "metadata": {},
   "outputs": [],
   "source": [
    "print(localidades.index('Murcia'))\n",
    "print(localidades.index('Murcia', 1))  # Busca Murcia y empieza en la posicion 1"
   ]
  },
  {
   "cell_type": "markdown",
   "metadata": {},
   "source": [
    "Invertimos la lista"
   ]
  },
  {
   "cell_type": "code",
   "execution_count": null,
   "metadata": {},
   "outputs": [],
   "source": [
    "localidades.reverse()\n",
    "print(localidades)"
   ]
  },
  {
   "cell_type": "markdown",
   "metadata": {},
   "source": [
    "Añadimos una nueva localidad y ordenamos"
   ]
  },
  {
   "cell_type": "code",
   "execution_count": null,
   "metadata": {},
   "outputs": [],
   "source": [
    "localidades.append('Albacete')\n",
    "localidades.sort()\n",
    "print (localidades)"
   ]
  },
  {
   "cell_type": "markdown",
   "metadata": {},
   "source": [
    "## Ficheros\n",
    "Python hace muy sencillo el trabajo con archivos y texto. "
   ]
  },
  {
   "cell_type": "code",
   "execution_count": 10,
   "metadata": {},
   "outputs": [],
   "source": [
    "f = open('holamundo.txt','w') # w significa write, r read y a append\n",
    "f.write(\"hola mundo\")\n",
    "f.close()"
   ]
  },
  {
   "cell_type": "markdown",
   "metadata": {},
   "source": [
    "Ahora vamos a añadir una nueva línea al fichero anterior."
   ]
  },
  {
   "cell_type": "code",
   "execution_count": 11,
   "metadata": {},
   "outputs": [],
   "source": [
    "f = open('holamundo.txt','a') # a es append\n",
    "f.write('\\n' + 'Hola Mundo')\n",
    "f.close()"
   ]
  },
  {
   "cell_type": "markdown",
   "metadata": {},
   "source": [
    "A continuación, vamos a leer el archivo creado anteriormente."
   ]
  },
  {
   "cell_type": "code",
   "execution_count": 17,
   "metadata": {},
   "outputs": [
    {
     "name": "stdout",
     "output_type": "stream",
     "text": [
      "hola mundo\n",
      "Hola Mundo\n"
     ]
    }
   ],
   "source": [
    "f = open('holamundo.txt', 'r')\n",
    "print(f.read()) # lectura de todo el fichero completo\n",
    "f.close()"
   ]
  },
  {
   "cell_type": "code",
   "execution_count": 18,
   "metadata": {},
   "outputs": [
    {
     "name": "stdout",
     "output_type": "stream",
     "text": [
      "hola mundo\n",
      "\n"
     ]
    }
   ],
   "source": [
    "f = open('holamundo.txt', 'r')\n",
    "print(f.readline()) # lectura de una linea\n",
    "f.close()"
   ]
  },
  {
   "cell_type": "markdown",
   "metadata": {},
   "source": [
    "## Crear fichero JSON\n"
   ]
  },
  {
   "cell_type": "code",
   "execution_count": 2,
   "metadata": {},
   "outputs": [],
   "source": [
    "import json\n",
    "\n",
    "data = {}\n",
    "data['obras'] = []\n",
    "\n",
    "data['obras'].append({\n",
    "    'titulo': 'El ingenioso hidalgo don Quijote de la Mancha',\n",
    "    'autor': 'Miguel de Cervantes',\n",
    "    'fecha': 1605})\n",
    "\n",
    "data['obras'].append({\n",
    "    'titulo': 'La Galatea',\n",
    "    'autor': 'Miguel de Cervantes',\n",
    "    'fecha': 1585})\n",
    "\n",
    "data['obras'].append({\n",
    "    'titulo': 'El celoso extremeño',\n",
    "    'autor': 'Miguel de Cervantes',\n",
    "    'fecha': 1613})"
   ]
  },
  {
   "cell_type": "markdown",
   "metadata": {},
   "source": [
    "El método dump recibe dos parámetros, el objeto json y el fichero donde se escribirá:"
   ]
  },
  {
   "cell_type": "code",
   "execution_count": null,
   "metadata": {},
   "outputs": [],
   "source": [
    "with open('data.json', 'w') as file:\n",
    "    json.dump(data, file, indent=4)"
   ]
  },
  {
   "cell_type": "markdown",
   "metadata": {},
   "source": [
    "El método dump solo recibe el objeto para obtener una cadena de texto como resultado."
   ]
  },
  {
   "cell_type": "code",
   "execution_count": 7,
   "metadata": {},
   "outputs": [
    {
     "name": "stdout",
     "output_type": "stream",
     "text": [
      "{\"obras\": [{\"titulo\": \"El ingenioso hidalgo don Quijote de la Mancha\", \"autor\": \"Miguel de Cervantes\", \"fecha\": 1605}, {\"titulo\": \"La Galatea\", \"autor\": \"Miguel de Cervantes\", \"fecha\": 1585}, {\"titulo\": \"El celoso extreme\\u00f1o\", \"autor\": \"Miguel de Cervantes\", \"fecha\": 1613}]}\n"
     ]
    }
   ],
   "source": [
    "json_string = json.dumps(data)\n",
    "print(json_string)"
   ]
  },
  {
   "cell_type": "code",
   "execution_count": 8,
   "metadata": {},
   "outputs": [
    {
     "name": "stdout",
     "output_type": "stream",
     "text": [
      "{\n",
      "    \"obras\": [\n",
      "        {\n",
      "            \"titulo\": \"El ingenioso hidalgo don Quijote de la Mancha\",\n",
      "            \"autor\": \"Miguel de Cervantes\",\n",
      "            \"fecha\": 1605\n",
      "        },\n",
      "        {\n",
      "            \"titulo\": \"La Galatea\",\n",
      "            \"autor\": \"Miguel de Cervantes\",\n",
      "            \"fecha\": 1585\n",
      "        },\n",
      "        {\n",
      "            \"titulo\": \"El celoso extreme\\u00f1o\",\n",
      "            \"autor\": \"Miguel de Cervantes\",\n",
      "            \"fecha\": 1613\n",
      "        }\n",
      "    ]\n",
      "}\n"
     ]
    }
   ],
   "source": [
    "json_string = json.dumps(data, indent=4)\n",
    "print(json_string)"
   ]
  },
  {
   "cell_type": "markdown",
   "metadata": {},
   "source": [
    "## Información adicional\n",
    "https://programminghistorian.org/es/lecciones/trabajar-con-archivos-de-texto"
   ]
  }
 ],
 "metadata": {
  "kernelspec": {
   "display_name": "Python 3",
   "language": "python",
   "name": "python3"
  },
  "language_info": {
   "codemirror_mode": {
    "name": "ipython",
    "version": 3
   },
   "file_extension": ".py",
   "mimetype": "text/x-python",
   "name": "python",
   "nbconvert_exporter": "python",
   "pygments_lexer": "ipython3",
   "version": "3.6.9"
  }
 },
 "nbformat": 4,
 "nbformat_minor": 2
}
