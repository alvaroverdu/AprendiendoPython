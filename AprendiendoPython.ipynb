{
 "cells": [
  {
   "cell_type": "markdown",
   "metadata": {},
   "source": [
    "# Aprendiendo python 3\n",
    "\n",
    "## Antes de empezar\n",
    "\n",
    "### Instalación en Linux\n",
    "En Linux la instalación resulta realmente sencilla. Basta con abrir la terminal y escribir lo siguiente:\n",
    "sudo apt-get install python3\n",
    "\n",
    "### Recomendaciones básicas\n",
    "* Escribe los nombres de los ficheros en minúsculas (ej.: hola.py)\n",
    "* Los tipos de datos se escriben en minúsculas (ej.: int, str)\n",
    "* Indenta con 4 espacios el código\n",
    "* Escribe comentarios en el código\n",
    "\n",
    "## Salida de información\n",
    "Para mostrar texto en Python usamos la función print, cuya sintaxis es:"
   ]
  },
  {
   "cell_type": "code",
   "execution_count": 1,
   "metadata": {},
   "outputs": [
    {
     "name": "stdout",
     "output_type": "stream",
     "text": [
      "Hola mundo!\n"
     ]
    }
   ],
   "source": [
    "print(\"Hola mundo!\")"
   ]
  },
  {
   "cell_type": "markdown",
   "metadata": {},
   "source": [
    "## Comentarios\n",
    "En Python los comentarios se hacen con una almohadilla (#):"
   ]
  },
  {
   "cell_type": "code",
   "execution_count": null,
   "metadata": {},
   "outputs": [],
   "source": [
    "# Esto es un comentario en python"
   ]
  },
  {
   "cell_type": "markdown",
   "metadata": {},
   "source": [
    "## Variables\n",
    "Las variables en Python se crean cuando se definen por primera vez, es decir, cuando se les asigna un valor por primera vez. Para asignar un valor a una variable se utiliza el operador de igualdad (=). A la izquierda de la igualdad se escribe el nombre de la variable y a la derecha el valor que se quiere dar a la variable."
   ]
  },
  {
   "cell_type": "code",
   "execution_count": 3,
   "metadata": {},
   "outputs": [],
   "source": [
    "variable = 10\n",
    "variable2 = \"Gustavo\""
   ]
  },
  {
   "cell_type": "markdown",
   "metadata": {},
   "source": [
    "## Números\n",
    "En Python, dentro del sistema númerico decimal, podemos operar con números enteros y números con coma flotante. \n",
    "* int: enteros\n",
    "* long: enteros \n",
    "* float: decimales"
   ]
  },
  {
   "cell_type": "code",
   "execution_count": 4,
   "metadata": {},
   "outputs": [],
   "source": [
    "a = 4 # int\n",
    "b = 4.15 # float"
   ]
  },
  {
   "cell_type": "markdown",
   "metadata": {},
   "source": [
    "## Operadores\n",
    "| Operación | Ejemplo |\n",
    "| -- | -- |\n",
    "| Asignación | a = 2 |\n",
    "| Suma | a = 2 + 1 |\n",
    "| Resta | a = 2 - 1 |\n",
    "| Multiplicación | a = 2 * 2 |\n",
    "| Potencia | a = a ** b |\n",
    "| División | a = a / b |"
   ]
  },
  {
   "cell_type": "markdown",
   "metadata": {},
   "source": [
    "## Entrada de información\n",
    "La función input se utiliza para permitir que el usuario introduzca información."
   ]
  },
  {
   "cell_type": "code",
   "execution_count": 6,
   "metadata": {},
   "outputs": [
    {
     "name": "stdout",
     "output_type": "stream",
     "text": [
      "Introduce tu nombregustavo\n",
      "Te llamas gustavo\n"
     ]
    }
   ],
   "source": [
    "nombre = str (input('Introduce tu nombre'))\n",
    "print('Te llamas', nombre)"
   ]
  },
  {
   "cell_type": "markdown",
   "metadata": {},
   "source": [
    "## Condiciones\n",
    "Para comprobar una igualdad usamos los siguientes operadores relacionales:\n",
    "\n",
    "|Operación | Operador | Ejemplo | Descripción\n",
    "| -- | -- | -- | -- |\n",
    "Igual | == | a == b | Comprueba si a y b son iguales. |\n",
    "Desigual | != | a != b | Comprueba si a y b sin distintos. |\n",
    "Mayor que | > | a > b | Comprueba si a es mayor que b. |\n",
    "Menor que | < | a < b | Comprueba si a es menor que b. |\n",
    "Mayor o igual a | >= | a >= b | Comprueba si a es mayor o igual a b. |\n",
    "Menor o igual a | <= | a <= b | Comprueba si a es menor o igual a b. |"
   ]
  },
  {
   "cell_type": "code",
   "execution_count": null,
   "metadata": {},
   "outputs": [],
   "source": []
  },
  {
   "cell_type": "code",
   "execution_count": null,
   "metadata": {},
   "outputs": [],
   "source": []
  }
 ],
 "metadata": {
  "kernelspec": {
   "display_name": "Python 3",
   "language": "python",
   "name": "python3"
  },
  "language_info": {
   "codemirror_mode": {
    "name": "ipython",
    "version": 3
   },
   "file_extension": ".py",
   "mimetype": "text/x-python",
   "name": "python",
   "nbconvert_exporter": "python",
   "pygments_lexer": "ipython3",
   "version": "3.6.9"
  }
 },
 "nbformat": 4,
 "nbformat_minor": 2
}
